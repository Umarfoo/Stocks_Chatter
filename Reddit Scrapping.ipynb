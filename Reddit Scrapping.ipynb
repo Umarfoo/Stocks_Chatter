{
 "cells": [
  {
   "cell_type": "code",
   "execution_count": 106,
   "metadata": {},
   "outputs": [],
   "source": [
    "# Importing Praw library for Reddit API\n",
    "import praw\n",
    "reddit = praw.Reddit(\n",
    "    client_id=\"nJ08p0RsYR5R_Q\",\n",
    "    client_secret=\"MqjjuIXYG0Gu5fRTki_pFbcMC_ejMw\",\n",
    "    user_agent=\"Chatterbot\"\n",
    ")"
   ]
  },
  {
   "cell_type": "code",
   "execution_count": 107,
   "metadata": {},
   "outputs": [],
   "source": [
    "# Importing necassary libraries\n",
    "import pandas as pd\n",
    "import numpy as np\n",
    "from time import time, ctime, mktime, gmtime"
   ]
  },
  {
   "cell_type": "code",
   "execution_count": 108,
   "metadata": {},
   "outputs": [
    {
     "name": "stdout",
     "output_type": "stream",
     "text": [
      "What Are Your Moves Tomorrow, February 11, 2021\n",
      "InvestorPlace has written a positive article in support of GME Diamond Hands Apes!\n",
      "When weed stocks are rippin'\n",
      "We're going *higher* than the moon\n",
      "Anyone else suspicious about all of these beta ass weed memes?\n",
      "+1100% on TLRY calls. I used to be retarded but now I'm retarded and able to pay off my car loan\n",
      "$800 -> $10,800 TLRY🌳\n",
      "Weed gang 🌳🌳🌳\n",
      "Candles got me like\n",
      "I taught myself Blender just to make this\n"
     ]
    }
   ],
   "source": [
    "# Reading Hot Posts from Reddit Subreddit WallStreetBets\n",
    "hot_posts = reddit.subreddit('wallstreetbets').hot(limit=10)\n",
    "for post in hot_posts:\n",
    "    print(post.title)"
   ]
  },
  {
   "cell_type": "code",
   "execution_count": 139,
   "metadata": {},
   "outputs": [
    {
     "data": {
      "text/html": [
       "<div>\n",
       "<style scoped>\n",
       "    .dataframe tbody tr th:only-of-type {\n",
       "        vertical-align: middle;\n",
       "    }\n",
       "\n",
       "    .dataframe tbody tr th {\n",
       "        vertical-align: top;\n",
       "    }\n",
       "\n",
       "    .dataframe thead th {\n",
       "        text-align: right;\n",
       "    }\n",
       "</style>\n",
       "<table border=\"1\" class=\"dataframe\">\n",
       "  <thead>\n",
       "    <tr style=\"text-align: right;\">\n",
       "      <th></th>\n",
       "      <th>title</th>\n",
       "      <th>score</th>\n",
       "      <th>id</th>\n",
       "      <th>subreddit</th>\n",
       "      <th>url</th>\n",
       "      <th>num_comments</th>\n",
       "      <th>body</th>\n",
       "      <th>created</th>\n",
       "    </tr>\n",
       "  </thead>\n",
       "  <tbody>\n",
       "    <tr>\n",
       "      <th>0</th>\n",
       "      <td>Pass the bong and gather round, bros! We're go...</td>\n",
       "      <td>142</td>\n",
       "      <td>lh6ttf</td>\n",
       "      <td>wallstreetbets</td>\n",
       "      <td>https://www.reddit.com/r/wallstreetbets/commen...</td>\n",
       "      <td>101</td>\n",
       "      <td>Hay hay, Ay, listen up, B, lemme holler at you...</td>\n",
       "      <td>2021-02-10</td>\n",
       "    </tr>\n",
       "    <tr>\n",
       "      <th>1</th>\n",
       "      <td>TLRY and APHA - Massive Arbitrage potential?</td>\n",
       "      <td>259</td>\n",
       "      <td>lh5fwm</td>\n",
       "      <td>wallstreetbets</td>\n",
       "      <td>https://www.reddit.com/r/wallstreetbets/commen...</td>\n",
       "      <td>242</td>\n",
       "      <td>It seems that many of those buying Tilray stoc...</td>\n",
       "      <td>2021-02-10</td>\n",
       "    </tr>\n",
       "    <tr>\n",
       "      <th>2</th>\n",
       "      <td>TLRY DD: 420.69% gainz</td>\n",
       "      <td>191</td>\n",
       "      <td>lh52hz</td>\n",
       "      <td>wallstreetbets</td>\n",
       "      <td>https://www.reddit.com/r/wallstreetbets/commen...</td>\n",
       "      <td>120</td>\n",
       "      <td>I'll keep this short because my smooth brain c...</td>\n",
       "      <td>2021-02-10</td>\n",
       "    </tr>\n",
       "    <tr>\n",
       "      <th>3</th>\n",
       "      <td>$TLRY and $APHA Merger Arbitrage</td>\n",
       "      <td>277</td>\n",
       "      <td>lh3qeg</td>\n",
       "      <td>wallstreetbets</td>\n",
       "      <td>https://www.reddit.com/r/wallstreetbets/commen...</td>\n",
       "      <td>140</td>\n",
       "      <td>\\nCurrently Tilray and Aphria are being mispri...</td>\n",
       "      <td>2021-02-10</td>\n",
       "    </tr>\n",
       "    <tr>\n",
       "      <th>4</th>\n",
       "      <td>$ACB DD</td>\n",
       "      <td>50</td>\n",
       "      <td>lh2j0v</td>\n",
       "      <td>wallstreetbets</td>\n",
       "      <td>https://www.reddit.com/r/wallstreetbets/commen...</td>\n",
       "      <td>95</td>\n",
       "      <td>I was in ACB like over a year ago and lost a l...</td>\n",
       "      <td>2021-02-10</td>\n",
       "    </tr>\n",
       "  </tbody>\n",
       "</table>\n",
       "</div>"
      ],
      "text/plain": [
       "                                               title  score      id  \\\n",
       "0  Pass the bong and gather round, bros! We're go...    142  lh6ttf   \n",
       "1       TLRY and APHA - Massive Arbitrage potential?    259  lh5fwm   \n",
       "2                             TLRY DD: 420.69% gainz    191  lh52hz   \n",
       "3                   $TLRY and $APHA Merger Arbitrage    277  lh3qeg   \n",
       "4                                            $ACB DD     50  lh2j0v   \n",
       "\n",
       "        subreddit                                                url  \\\n",
       "0  wallstreetbets  https://www.reddit.com/r/wallstreetbets/commen...   \n",
       "1  wallstreetbets  https://www.reddit.com/r/wallstreetbets/commen...   \n",
       "2  wallstreetbets  https://www.reddit.com/r/wallstreetbets/commen...   \n",
       "3  wallstreetbets  https://www.reddit.com/r/wallstreetbets/commen...   \n",
       "4  wallstreetbets  https://www.reddit.com/r/wallstreetbets/commen...   \n",
       "\n",
       "   num_comments                                               body     created  \n",
       "0           101  Hay hay, Ay, listen up, B, lemme holler at you...  2021-02-10  \n",
       "1           242  It seems that many of those buying Tilray stoc...  2021-02-10  \n",
       "2           120  I'll keep this short because my smooth brain c...  2021-02-10  \n",
       "3           140  \\nCurrently Tilray and Aphria are being mispri...  2021-02-10  \n",
       "4            95  I was in ACB like over a year ago and lost a l...  2021-02-10  "
      ]
     },
     "execution_count": 139,
     "metadata": {},
     "output_type": "execute_result"
    }
   ],
   "source": [
    "import time\n",
    "# Using Reddit API to search the forum WallStreetBets for Tilray stock and getting the details on the posts\n",
    "posts = []\n",
    "ml_subreddit = reddit.subreddit('wallstreetbets')\n",
    "for post in ml_subreddit.search(\"Tilray\",sort=\"new\", time_filter='all'):\n",
    "    # Making data frame and converting time to readable format\n",
    "    posts.append([post.title, post.score, post.id, post.subreddit, post.url, post.num_comments, post.selftext, time.strftime('%Y-%m-%d', gmtime(post.created_utc))])\n",
    "posts = pd.DataFrame(posts,columns=['title', 'score', 'id', 'subreddit', 'url', 'num_comments', 'body', 'created'])\n",
    "posts.head()"
   ]
  },
  {
   "cell_type": "code",
   "execution_count": 140,
   "metadata": {},
   "outputs": [
    {
     "data": {
      "text/html": [
       "<div>\n",
       "<style scoped>\n",
       "    .dataframe tbody tr th:only-of-type {\n",
       "        vertical-align: middle;\n",
       "    }\n",
       "\n",
       "    .dataframe tbody tr th {\n",
       "        vertical-align: top;\n",
       "    }\n",
       "\n",
       "    .dataframe thead th {\n",
       "        text-align: right;\n",
       "    }\n",
       "</style>\n",
       "<table border=\"1\" class=\"dataframe\">\n",
       "  <thead>\n",
       "    <tr style=\"text-align: right;\">\n",
       "      <th></th>\n",
       "      <th>score</th>\n",
       "      <th>num_comments</th>\n",
       "    </tr>\n",
       "    <tr>\n",
       "      <th>created</th>\n",
       "      <th></th>\n",
       "      <th></th>\n",
       "    </tr>\n",
       "  </thead>\n",
       "  <tbody>\n",
       "    <tr>\n",
       "      <th>2019-08-18</th>\n",
       "      <td>355</td>\n",
       "      <td>77</td>\n",
       "    </tr>\n",
       "    <tr>\n",
       "      <th>2019-08-21</th>\n",
       "      <td>13</td>\n",
       "      <td>3</td>\n",
       "    </tr>\n",
       "    <tr>\n",
       "      <th>2019-08-28</th>\n",
       "      <td>65</td>\n",
       "      <td>46</td>\n",
       "    </tr>\n",
       "    <tr>\n",
       "      <th>2019-11-18</th>\n",
       "      <td>35</td>\n",
       "      <td>108</td>\n",
       "    </tr>\n",
       "    <tr>\n",
       "      <th>2019-12-12</th>\n",
       "      <td>20</td>\n",
       "      <td>13</td>\n",
       "    </tr>\n",
       "  </tbody>\n",
       "</table>\n",
       "</div>"
      ],
      "text/plain": [
       "            score  num_comments\n",
       "created                        \n",
       "2019-08-18    355            77\n",
       "2019-08-21     13             3\n",
       "2019-08-28     65            46\n",
       "2019-11-18     35           108\n",
       "2019-12-12     20            13"
      ]
     },
     "execution_count": 140,
     "metadata": {},
     "output_type": "execute_result"
    }
   ],
   "source": [
    "# Grouping by dates and getting sum of comments\n",
    "post_grouped = posts.groupby(['created'])\n",
    "post_sum = post_grouped.sum().sort_values(by='created', ascending = True)\n",
    "post_sum.head()"
   ]
  },
  {
   "cell_type": "code",
   "execution_count": 141,
   "metadata": {},
   "outputs": [],
   "source": [
    "# Defining X and y\n",
    "X = post_sum.num_comments.index\n",
    "y = post_sum.num_comments.values"
   ]
  },
  {
   "cell_type": "code",
   "execution_count": 142,
   "metadata": {},
   "outputs": [
    {
     "data": {
      "image/png": "[encoded data removed]",
      "text/plain": [
       "<Figure size 432x288 with 1 Axes>"
      ]
     },
     "metadata": {
      "needs_background": "light"
     },
     "output_type": "display_data"
    }
   ],
   "source": [
    "# Ploting X & Y to see trends\n",
    "\n",
    "import matplotlib.pyplot as plt\n",
    "labels = X\n",
    "plt.plot(X, y)\n",
    "plt.title('TILRAY CHATTER ON REDDIT')\n",
    "plt.xticks([labels[0], labels[-1]], visible=True, rotation=\"horizontal\")\n",
    "plt.show()"
   ]
  },
  {
   "cell_type": "code",
   "execution_count": null,
   "metadata": {},
   "outputs": [],
   "source": []
  }
 ],
 "metadata": {
  "kernelspec": {
   "display_name": "Python 3",
   "language": "python",
   "name": "python3"
  },
  "language_info": {
   "codemirror_mode": {
    "name": "ipython",
    "version": 3
   },
   "file_extension": ".py",
   "mimetype": "text/x-python",
   "name": "python",
   "nbconvert_exporter": "python",
   "pygments_lexer": "ipython3",
   "version": "3.7.6"
  }
 },
 "nbformat": 4,
 "nbformat_minor": 4
}
